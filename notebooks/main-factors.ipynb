{
 "cells": [
  {
   "cell_type": "code",
   "execution_count": 1,
   "metadata": {},
   "outputs": [],
   "source": [
    "import pandas as pd\n",
    "import numpy as np\n",
    "import matplotlib.pyplot as plt\n",
    "import seaborn as sns\n",
    "import matplotlib.pyplot as plt\n",
    "from sklearn.cluster import DBSCAN\n",
    "import duckdb \n",
    "duckdb.install_extension('json')\n",
    "duckdb.install_extension('spatial')\n",
    "duckdb.load_extension('json')\n",
    "duckdb.load_extension('spatial')"
   ]
  },
  {
   "attachments": {},
   "cell_type": "markdown",
   "metadata": {},
   "source": [
    "DuckDB database connection"
   ]
  },
  {
   "cell_type": "code",
   "execution_count": 2,
   "metadata": {},
   "outputs": [],
   "source": [
    "db = duckdb.connect(\"data.db\")\n",
    "EXTRACT_DATA_TO_DATABASE = False"
   ]
  },
  {
   "attachments": {},
   "cell_type": "markdown",
   "metadata": {},
   "source": [
    "Utils"
   ]
  },
  {
   "cell_type": "code",
   "execution_count": 3,
   "metadata": {},
   "outputs": [
    {
     "name": "stdout",
     "output_type": "stream",
     "text": [
      "fixStringEncoding reemoved if existed\n"
     ]
    }
   ],
   "source": [
    "def fixStringEncoding(word) -> str:\n",
    "    if( word is None ):\n",
    "        return word\n",
    "\n",
    "    try:\n",
    "        #based on https://www.i18nqa.com/debug/utf8-debug.html\n",
    "        return word.encode('ISO-8859-1').decode('utf-8')\n",
    "    except:\n",
    "        print(word)\n",
    "\n",
    "\n",
    "try:\n",
    "    db.remove_function('fixStringEncoding') \n",
    "except:\n",
    "    print(\"fixStringEncoding reemoved if existed\")\n",
    "\n",
    "try:\n",
    "    db.create_function('fixStringEncoding', fixStringEncoding)  \n",
    "except:\n",
    "    print(\"created fixStringEncoding\")"
   ]
  },
  {
   "attachments": {},
   "cell_type": "markdown",
   "metadata": {},
   "source": [
    "Constants"
   ]
  },
  {
   "cell_type": "code",
   "execution_count": 4,
   "metadata": {},
   "outputs": [],
   "source": [
    "BASE_PATH = \"../tp_data/uncrompressed\""
   ]
  },
  {
   "attachments": {},
   "cell_type": "markdown",
   "metadata": {},
   "source": [
    "Read accidents data"
   ]
  },
  {
   "cell_type": "code",
   "execution_count": 5,
   "metadata": {},
   "outputs": [],
   "source": [
    "if(EXTRACT_DATA_TO_DATABASE):\n",
    "    df_ansr_acidentes               = pd.read_excel(f\"{BASE_PATH}/ANSR_ACIDENTES\\ANSR_ACIDENTES\\ANSR_ACIDENTES_2019_2021.xlsx\")\n",
    "    df_ansr_acidentes_veic_cond     = pd.read_excel(f\"{BASE_PATH}/ANSR_ACIDENTES\\ANSR_ACIDENTES\\ANSR_ACIDENTES_2019_2021.xlsx\", sheet_name=\"veíc-cond\")\n",
    "    df_ansr_acidentes_passageiros   = pd.read_excel(f\"{BASE_PATH}/ANSR_ACIDENTES\\ANSR_ACIDENTES\\ANSR_ACIDENTES_2019_2021.xlsx\", sheet_name=\"passageiros\")\n",
    "    df_ansr_acidentes_peoes         = pd.read_excel(f\"{BASE_PATH}/ANSR_ACIDENTES\\ANSR_ACIDENTES\\ANSR_ACIDENTES_2019_2021.xlsx\", sheet_name=\"peões\")\n",
    "\n",
    "    df_dmm_sinistros_graves = pd.read_excel(f\"{BASE_PATH}/DMM_SINISTROS_GRAVES\\DMM_SINISTROS_GRAVES\\DMM_SINISTROS_GRAVES.xlsx\", sheet_name=\"SinistrosGraves_TabelaAtributos\")\n",
    "    df_rsb_acidentes        = pd.read_csv(f\"{BASE_PATH}/rbs_acidentes_rodoviarios\\RSB_ACIDENTES RODOVIÁRIOS\\RSB_ACIDENTES_RODOVIARIOS_13.12.2018_A_02.09.2022.csv\")"
   ]
  },
  {
   "attachments": {},
   "cell_type": "markdown",
   "metadata": {},
   "source": [
    "Read meteo data"
   ]
  },
  {
   "cell_type": "code",
   "execution_count": 6,
   "metadata": {},
   "outputs": [],
   "source": [
    "if(EXTRACT_DATA_TO_DATABASE):\n",
    "    df_meteo_2019       = pd.read_excel(f\"{BASE_PATH}/PGIL_IPMA_METEO_OBS\\PGIL_IPMA_METEO_OBS\\PGIL_IPMA_METEO_OBS_2019\\PGIL_IPMA_METEO_OBS_01012019_a_30102019.xlsx\")\n",
    "    df_meteo_2020_2022  = pd.read_csv(f\"{BASE_PATH}/PGIL_IPMA_METEO_OBS\\PGIL_IPMA_METEO_OBS\\PGIL_IPMA_METEO_OBS_16.01.2020_a_08.09.2022.csv\")"
   ]
  },
  {
   "attachments": {},
   "cell_type": "markdown",
   "metadata": {},
   "source": [
    "Read waze jams"
   ]
  },
  {
   "cell_type": "code",
   "execution_count": 7,
   "metadata": {},
   "outputs": [],
   "source": [
    "if(EXTRACT_DATA_TO_DATABASE):\n",
    "    df_waze_jams_2017_2018       = pd.read_excel(f\"{BASE_PATH}/waze jams\\WAZE JAMS\\DMM_WAZE_JAMS_29112017_a_31122018\\DMM_WAZE_JAMS_2017-11-29 a 2018-10-31.xlsx\") \n",
    "    df_waze_jams_end_2018        = pd.read_excel(f\"{BASE_PATH}/waze jams\\WAZE JAMS\\DMM_WAZE_JAMS_29112017_a_31122018\\DMM_WAZE_JAMS_2018-11-01 a 2018-12-31.xlsx\")  \n",
    "    df_waze_jams_end_2018        = pd.read_excel(f\"{BASE_PATH}/waze jams\\WAZE JAMS\\DMM_WAZE_JAMS_29112017_a_31122018\\DMM_WAZE_JAMS_2018-11-01 a 2018-12-31.xlsx\") \n",
    "    df_waze_jams_2019_2022       = db.sql(f\"select * from '{BASE_PATH}/waze jams\\WAZE JAMS\\PGIL_WAZE_JAMS_01.01.2019_a_31.08.2022\\PGIL_WAZE_JAMS_01.01.2019_a_31.08.2022\\waze_desafios\\*.csv'\").to_df()"
   ]
  },
  {
   "attachments": {},
   "cell_type": "markdown",
   "metadata": {},
   "source": [
    "Insert data frames into duckdb"
   ]
  },
  {
   "cell_type": "code",
   "execution_count": 8,
   "metadata": {},
   "outputs": [],
   "source": [
    "if(EXTRACT_DATA_TO_DATABASE):\n",
    "    db.sql(\"CREATE TABLE IF NOT EXISTS ansr_acidentes               AS SELECT * FROM df_ansr_acidentes\")\n",
    "    db.sql(\"CREATE TABLE IF NOT EXISTS ansr_acidentes_veic_cond     AS SELECT * FROM df_ansr_acidentes_veic_cond\")\n",
    "    db.sql(\"CREATE TABLE IF NOT EXISTS ansr_acidentes_passageiros   AS SELECT * FROM df_ansr_acidentes_passageiros\")\n",
    "    db.sql(\"CREATE TABLE IF NOT EXISTS ansr_acidentes_peoes         AS SELECT * FROM df_ansr_acidentes_peoes\")\n",
    "    db.sql(\"CREATE TABLE IF NOT EXISTS dmm_sinistros_graves         AS SELECT * FROM df_dmm_sinistros_graves\")\n",
    "    db.sql(\"CREATE TABLE IF NOT EXISTS rsb_acidentes                AS SELECT * FROM df_rsb_acidentes\")\n",
    "    db.sql(\"CREATE TABLE IF NOT EXISTS meteo_2019                   AS SELECT * FROM df_meteo_2019\")\n",
    "    db.sql(\"CREATE TABLE IF NOT EXISTS meteo_2020_2022              AS SELECT * FROM df_meteo_2020_2022\")\n",
    "    db.sql(\"CREATE TABLE IF NOT EXISTS waze_jams_2017_2018          AS SELECT * FROM df_waze_jams_2017_2018\")\n",
    "    db.sql(\"CREATE TABLE IF NOT EXISTS waze_jams_2019_2022          AS SELECT * FROM df_waze_jams_2019_2022\")"
   ]
  },
  {
   "cell_type": "code",
   "execution_count": 9,
   "metadata": {},
   "outputs": [
    {
     "data": {
      "text/plain": [
       "┌──────────────────────┬──────────┐\n",
       "│       tbl_name       │   cnt    │\n",
       "│       varchar        │  int64   │\n",
       "├──────────────────────┼──────────┤\n",
       "│ ansr_acidentes       │     2768 │\n",
       "│ dmm_sinistros_graves │      240 │\n",
       "│ rsb_acidentes        │     5554 │\n",
       "│ meteo_2019           │   242398 │\n",
       "│ meteo_2020_2022      │   998206 │\n",
       "│ waze_jams_2017_2018  │   984739 │\n",
       "│ waze_jams_2019_2022  │ 36608126 │\n",
       "└──────────────────────┴──────────┘"
      ]
     },
     "execution_count": 9,
     "metadata": {},
     "output_type": "execute_result"
    }
   ],
   "source": [
    "db.sql(\"\"\"\n",
    "SELECT 'ansr_acidentes'         AS tbl_name, count(1) AS cnt FROM ansr_acidentes        UNION ALL\n",
    "SELECT 'dmm_sinistros_graves'   AS tbl_name, count(1) AS cnt FROM dmm_sinistros_graves  UNION ALL\n",
    "SELECT 'rsb_acidentes'          AS tbl_name, count(1) AS cnt FROM rsb_acidentes         UNION ALL\n",
    "SELECT 'meteo_2019'             AS tbl_name, count(1) AS cnt FROM meteo_2019            UNION ALL\n",
    "SELECT 'meteo_2020_2022'        AS tbl_name, count(1) AS cnt FROM meteo_2020_2022       UNION ALL\n",
    "SELECT 'waze_jams_2017_2018'    AS tbl_name, count(1) AS cnt FROM waze_jams_2017_2018   UNION ALL\n",
    "SELECT 'waze_jams_2019_2022'    AS tbl_name, count(1) AS cnt FROM waze_jams_2019_2022\n",
    "\"\"\")"
   ]
  },
  {
   "attachments": {},
   "cell_type": "markdown",
   "metadata": {},
   "source": [
    "Merge accidents"
   ]
  },
  {
   "cell_type": "code",
   "execution_count": 10,
   "metadata": {},
   "outputs": [],
   "source": [
    "db.sql(\"\"\"\n",
    "    CREATE OR REPLACE TABLE acidentes AS \n",
    "    SELECT 'ansr_acidentes' AS original_dataset, strptime(datahora, '%Y:%m:%d %H:%M:%S') AS 'datahora', \\\"Tipo Natureza\\\" AS natureza, freguesia, \\\"Nome arruamento\\\" AS rua, \"Latitude GPS\" as latitude, \"Longitude GPS\" as longitude FROM ansr_acidentes\n",
    "    UNION ALL\n",
    "    SELECT 'dmm_sinistros_graves' as orginal_dataset, strptime(datahora, '%Y:%m:%d %H:%M:%S') AS 'datahora', fixStringEncoding(tipo_natureza) AS natureza, fixStringEncoding(freguesia) AS freguesia, fixStringEncoding(nome_arruamento) AS rua, null as latitude, null as longitude FROM dmm_sinistros_graves\n",
    "    UNION ALL \n",
    "    SELECT 'rsb_acidentes' AS original_dataset, strptime(dtregisto, '%Y-%m-%d %H:%M:%S') AS datahora, tipologia AS natureza, freguesia, morada AS rua, replace(position, '''', '\"')::json->'$.coordinates'->'$[0]' as latitude, replace(position, '''', '\"')::json->'$.coordinates'->'$[0]' as longitude FROM rsb_acidentes\n",
    "\"\"\")"
   ]
  },
  {
   "attachments": {},
   "cell_type": "markdown",
   "metadata": {},
   "source": [
    "Clean up"
   ]
  },
  {
   "cell_type": "code",
   "execution_count": 11,
   "metadata": {},
   "outputs": [],
   "source": [
    "db.sql(\"\"\"\n",
    "    CREATE OR REPLACE TABLE acidentes_clean AS\n",
    "    SELECT \n",
    "        original_dataset,\n",
    "        datahora,\n",
    "        freguesia,\n",
    "        TRIM(\n",
    "            REPLACE(\n",
    "                REPLACE(\n",
    "                    STR_SPLIT(\n",
    "                        STR_SPLIT(\n",
    "                            STR_SPLIT(rua, '%')[1],\n",
    "                            ','\n",
    "                        )[1],\n",
    "                        '-'\n",
    "                    )[1],\n",
    "                    'Prof.',\n",
    "                    'Professor'\n",
    "                ),\n",
    "                'Eng.º',\n",
    "                'Engenheiro'\n",
    "            )\n",
    "        ) AS rua, \n",
    "        latitude,\n",
    "        longitude\n",
    "    FROM \n",
    "        acidentes\n",
    "\"\"\")"
   ]
  },
  {
   "attachments": {},
   "cell_type": "markdown",
   "metadata": {},
   "source": [
    "Exploratory Data Analysis"
   ]
  },
  {
   "cell_type": "code",
   "execution_count": 3,
   "metadata": {},
   "outputs": [
    {
     "data": {
      "text/plain": [
       "┌─────────────────────────┬──────────┐\n",
       "│        Freguesia        │ count(1) │\n",
       "│         varchar         │  int64   │\n",
       "├─────────────────────────┼──────────┤\n",
       "│ Alvalade                │      696 │\n",
       "│ Avenidas Novas          │      673 │\n",
       "│ Lumiar                  │      624 │\n",
       "│ São Domingos de Benfica │      509 │\n",
       "│ Benfica                 │      458 │\n",
       "│ Alcântara               │      453 │\n",
       "│ Olivais                 │      429 │\n",
       "│ Campolide               │      428 │\n",
       "│ Marvila                 │      408 │\n",
       "│ Arroios                 │      387 │\n",
       "├─────────────────────────┴──────────┤\n",
       "│ 10 rows                  2 columns │\n",
       "└────────────────────────────────────┘"
      ]
     },
     "execution_count": 3,
     "metadata": {},
     "output_type": "execute_result"
    }
   ],
   "source": [
    "db.sql(\"SELECT freguesia, count(1) FROM acidentes_clean GROUP BY 1 ORDER BY 2 DESC LIMIT 10\")"
   ]
  },
  {
   "cell_type": "code",
   "execution_count": 13,
   "metadata": {},
   "outputs": [
    {
     "data": {
      "text/plain": [
       "┌───────────────────────────────────┬──────────┐\n",
       "│                rua                │ count(1) │\n",
       "│              varchar              │  int64   │\n",
       "├───────────────────────────────────┼──────────┤\n",
       "│ Eixo Norte                        │      286 │\n",
       "│ Avenida General Norton de Matos   │      221 │\n",
       "│ Avenida Infante Dom Henrique      │      215 │\n",
       "│ Avenida Marechal Craveiro Lopes   │      164 │\n",
       "│ Auto                              │      132 │\n",
       "│ Avenida Eusébio da Silva Ferreira │      129 │\n",
       "│ Avenida de Berlim                 │      106 │\n",
       "│ Avenida Engenheiro Duarte Pacheco │      100 │\n",
       "│ Avenida Almirante Reis            │      100 │\n",
       "│ Avenida Fontes Pereira de Melo    │       82 │\n",
       "│ Avenida da República              │       81 │\n",
       "│ Avenida Almirante Gago Coutinho   │       77 │\n",
       "│ Avenida Cidade do Porto           │       74 │\n",
       "│ Avenida Marechal Gomes da Costa   │       73 │\n",
       "│ Avenida Padre Cruz                │       72 │\n",
       "│ Avenida de Ceuta                  │       71 │\n",
       "│ Calçada de Carriche               │       68 │\n",
       "│ Avenida Lusíada                   │       63 │\n",
       "│ Rua Alexandre Herculano           │       62 │\n",
       "│ Avenida Vinte e Quatro de Julho   │       61 │\n",
       "├───────────────────────────────────┴──────────┤\n",
       "│ 20 rows                            2 columns │\n",
       "└──────────────────────────────────────────────┘"
      ]
     },
     "execution_count": 13,
     "metadata": {},
     "output_type": "execute_result"
    }
   ],
   "source": [
    "db.sql(\"SELECT rua, count(1) FROM acidentes_clean WHERE rua IS NOT NULL GROUP BY 1 ORDER BY 2 DESC LIMIT 20\")"
   ]
  },
  {
   "cell_type": "code",
   "execution_count": 4,
   "metadata": {},
   "outputs": [
    {
     "data": {
      "text/plain": [
       "┌─────────────────────────┬───────────────────────────────────┬──────────┐\n",
       "│        Freguesia        │                rua                │ count(1) │\n",
       "│         varchar         │              varchar              │  int64   │\n",
       "├─────────────────────────┼───────────────────────────────────┼──────────┤\n",
       "│ Campolide               │ Eixo Norte                        │      104 │\n",
       "│ Arroios                 │ Avenida Almirante Reis            │       92 │\n",
       "│ Olivais                 │ Avenida de Berlim                 │       90 │\n",
       "│ Alvalade                │ Avenida Marechal Craveiro Lopes   │       84 │\n",
       "│ São Domingos de Benfica │ Eixo Norte                        │       82 │\n",
       "│ Benfica                 │ Avenida Eusébio da Silva Ferreira │       71 │\n",
       "│ Avenidas Novas          │ Avenida da República              │       71 │\n",
       "│ Lumiar                  │ Avenida Padre Cruz                │       70 │\n",
       "│ Lumiar                  │ Eixo Norte                        │       68 │\n",
       "│ Alvalade                │ Avenida Almirante Gago Coutinho   │       64 │\n",
       "├─────────────────────────┴───────────────────────────────────┴──────────┤\n",
       "│ 10 rows                                                      3 columns │\n",
       "└────────────────────────────────────────────────────────────────────────┘"
      ]
     },
     "execution_count": 4,
     "metadata": {},
     "output_type": "execute_result"
    }
   ],
   "source": [
    "db.sql(\"SELECT freguesia, rua, count(1) FROM acidentes_clean WHERE rua IS NOT NULL GROUP BY 1, 2 ORDER BY 3 DESC LIMIT 10\")"
   ]
  },
  {
   "cell_type": "code",
   "execution_count": 15,
   "metadata": {},
   "outputs": [
    {
     "data": {
      "text/plain": [
       "┌─────────────────────────┬─────────────────────────────────┬──────────┐\n",
       "│        Freguesia        │               rua               │ count(1) │\n",
       "│         varchar         │             varchar             │  int64   │\n",
       "├─────────────────────────┼─────────────────────────────────┼──────────┤\n",
       "│ Carnide                 │ Avenida General Norton de Matos │       62 │\n",
       "│ Alvalade                │ Avenida General Norton de Matos │       57 │\n",
       "│ Benfica                 │ Avenida General Norton de Matos │       46 │\n",
       "│ São Domingos de Benfica │ Avenida General Norton de Matos │       34 │\n",
       "│ Lumiar                  │ Avenida General Norton de Matos │       21 │\n",
       "│ NULL                    │ Avenida General Norton de Matos │        1 │\n",
       "└─────────────────────────┴─────────────────────────────────┴──────────┘"
      ]
     },
     "execution_count": 15,
     "metadata": {},
     "output_type": "execute_result"
    }
   ],
   "source": [
    "db.sql(\"SELECT freguesia, rua, count(1) FROM acidentes_clean WHERE rua='Avenida General Norton de Matos' GROUP BY 1, 2 ORDER BY 3 DESC\")"
   ]
  },
  {
   "cell_type": "code",
   "execution_count": 16,
   "metadata": {},
   "outputs": [
    {
     "data": {
      "text/plain": [
       "<AxesSubplot:xlabel='bucket', ylabel='total'>"
      ]
     },
     "execution_count": 16,
     "metadata": {},
     "output_type": "execute_result"
    },
    {
     "data": {
      "image/png": "[encoded data removed]",
      "text/plain": [
       "<Figure size 432x288 with 1 Axes>"
      ]
     },
     "metadata": {
      "needs_background": "light"
     },
     "output_type": "display_data"
    }
   ],
   "source": [
    "df = db.sql(\"\"\"\n",
    "    SELECT \n",
    "        make_time(date_part('hour', time_bucket(interval '30 minutes', datahora))  , date_part('minute', time_bucket(interval '30 minutes', datahora)) , 0) AS bucket, \n",
    "        count(1) AS total\n",
    "    FROM \n",
    "        acidentes_clean \n",
    "    WHERE bucket IS NOT NULL\n",
    "    GROUP BY 1 \n",
    "    ORDER BY 1  asc\n",
    "\"\"\").to_df() \n",
    "\n",
    "sns.barplot(data=df, x='bucket', y='total' )"
   ]
  },
  {
   "cell_type": "code",
   "execution_count": 6,
   "metadata": {},
   "outputs": [
    {
     "data": {
      "text/plain": [
       "<AxesSubplot:xlabel='bucket', ylabel='total'>"
      ]
     },
     "execution_count": 6,
     "metadata": {},
     "output_type": "execute_result"
    },
    {
     "data": {
      "image/png": "[encoded data removed]",
      "text/plain": [
       "<Figure size 432x288 with 1 Axes>"
      ]
     },
     "metadata": {
      "needs_background": "light"
     },
     "output_type": "display_data"
    }
   ],
   "source": [
    "df = db.sql(\"\"\"\n",
    "    SELECT \n",
    "        date_part('hour', time_bucket(interval '60 minutes', datahora)) AS bucket, \n",
    "        count(1) AS total\n",
    "    FROM \n",
    "        acidentes_clean \n",
    "    WHERE bucket IS NOT NULL\n",
    "    GROUP BY 1 \n",
    "    ORDER BY 1 ASC\n",
    "\"\"\").to_df()\n",
    "\n",
    "sns.barplot(data=df, x='bucket', y='total', color='steelblue' )"
   ]
  },
  {
   "attachments": {},
   "cell_type": "markdown",
   "metadata": {},
   "source": [
    "1. É bastante complicado juntar os dados do waze aos dados dos acidentes.\n",
    "2. Existe um gap temporal no dados do waze de 2018-10-31 23:30:02 até 2019-08-01 00:04:13.162 \n",
    "3. Mesmo fazer o cruzamento dos acidentes com objectos do gps nome das ruas se torna complicado\n",
    "   1. Usar o nome das ruas não vair fazer correlação em todos os acidentes pois alguns nomes sao diferetes ou não se sabe a freguesia\n",
    "   2. Por próximidade de gps não é possível garantir que se trata da estrada correct\n",
    "4. Os dados tempo ... ?\n",
    "5. O interessante seria entender os fenomentos de cada estrada e entender o que leva a que ocorra acidentes...\n",
    "6. O data set mais completo é relativo aos dodos da ANSR\n",
    "7. Vamos focar análise nesse conjuto de dados\n"
   ]
  },
  {
   "attachments": {},
   "cell_type": "markdown",
   "metadata": {},
   "source": [
    "Close db conneection to remove the lock on the file"
   ]
  },
  {
   "cell_type": "code",
   "execution_count": 18,
   "metadata": {},
   "outputs": [
    {
     "data": {
      "text/plain": [
       "┌──────────┐\n",
       "│ count(1) │\n",
       "│  int64   │\n",
       "├──────────┤\n",
       "│     2768 │\n",
       "└──────────┘"
      ]
     },
     "execution_count": 18,
     "metadata": {},
     "output_type": "execute_result"
    }
   ],
   "source": [
    "db.sql(\" SELECT count(1) FROM ansr_acidentes\")"
   ]
  },
  {
   "cell_type": "code",
   "execution_count": 19,
   "metadata": {},
   "outputs": [
    {
     "data": {
      "text/plain": [
       "┌───────────────┬──────────┐\n",
       "│ Tipo Natureza │ count(1) │\n",
       "│    varchar    │  int64   │\n",
       "├───────────────┼──────────┤\n",
       "│ Despiste      │      521 │\n",
       "│ Atropelamento │      674 │\n",
       "│ Colisão       │     1573 │\n",
       "└───────────────┴──────────┘"
      ]
     },
     "execution_count": 19,
     "metadata": {},
     "output_type": "execute_result"
    }
   ],
   "source": [
    "db.sql(\"\"\" SELECT \"Tipo Natureza\", count(1) FROM main.ansr_acidentes GROUP BY 1 \"\"\")"
   ]
  },
  {
   "cell_type": "code",
   "execution_count": 10,
   "metadata": {},
   "outputs": [
    {
     "data": {
      "text/plain": [
       "┌──────────────────────────────┬───────┬─────────┐\n",
       "│          Tipos Vias          │ COUNT │    %    │\n",
       "│           varchar            │ int64 │ varchar │\n",
       "├──────────────────────────────┼───────┼─────────┤\n",
       "│ Arruamento                   │  2515 │ 90.86%  │\n",
       "│ IP- Itinerário Principal     │   103 │ 3.721%  │\n",
       "│ A  - Auto-Estrada            │   101 │ 3.649%  │\n",
       "│ IC - Itinerário Complementar │    36 │ 1.301%  │\n",
       "│ Outra Via                    │    10 │ 0.361%  │\n",
       "│ PNT - Ponte                  │     3 │ 0.108%  │\n",
       "└──────────────────────────────┴───────┴─────────┘"
      ]
     },
     "execution_count": 10,
     "metadata": {},
     "output_type": "execute_result"
    }
   ],
   "source": [
    "db.sql(\"\"\" SELECT \"Tipos Vias\", count(1) AS COUNT, ROUND(COUNT(1)/2768*100, 3) || '%' AS '%'  FROM ansr_acidentes GROUP BY 1 ORDER BY 3 DESC\"\"\")"
   ]
  },
  {
   "cell_type": "code",
   "execution_count": 21,
   "metadata": {},
   "outputs": [
    {
     "data": {
      "text/plain": [
       "┌──────────────────┬──────────┐\n",
       "│ Lesões a 30 dias │ count(1) │\n",
       "│     varchar      │  int64   │\n",
       "├──────────────────┼──────────┤\n",
       "│ Ferido leve      │      627 │\n",
       "│ Ferido grave     │        1 │\n",
       "│ Morto            │        3 │\n",
       "└──────────────────┴──────────┘"
      ]
     },
     "execution_count": 21,
     "metadata": {},
     "output_type": "execute_result"
    }
   ],
   "source": [
    "db.sql(\"\"\" SELECT \"Lesões a 30 dias\", count(1) FROM ansr_acidentes_passageiros GROUP BY 1 \"\"\")"
   ]
  },
  {
   "cell_type": "code",
   "execution_count": 22,
   "metadata": {},
   "outputs": [
    {
     "data": {
      "text/plain": [
       "┌─────────────────────────┬───────────────────────────────────┬───────┬─────────┐\n",
       "│        Freguesia        │          nome_arruamento          │ COUNT │    %    │\n",
       "│         varchar         │              varchar              │ int64 │ varchar │\n",
       "├─────────────────────────┼───────────────────────────────────┼───────┼─────────┤\n",
       "│ Avenidas Novas          │ Avenida República                 │    43 │ 1.553%  │\n",
       "│ São Domingos de Benfica │ Avenida Eusébio da Silva Ferreira │    31 │ 1.12%   │\n",
       "│ Alvalade                │ Avenida Marechal Craveiro Lopes   │    31 │ 1.12%   │\n",
       "│ Arroios                 │ Avenida Almirante Reis            │    31 │ 1.12%   │\n",
       "│ Lumiar                  │ Calçada Carriche                  │    30 │ 1.084%  │\n",
       "│ Alvalade                │ Campo Grande                      │    29 │ 1.048%  │\n",
       "│ Santo António           │ Avenida Liberdade                 │    25 │ 0.903%  │\n",
       "│ Estrela                 │ Avenida 24 de Julho               │    25 │ 0.903%  │\n",
       "│ Santa Maria dos Olivais │ Avenida Berlim                    │    23 │ 0.831%  │\n",
       "│ Lumiar                  │ Avenida Padre Cruz                │    23 │ 0.831%  │\n",
       "│ Avenidas Novas          │ Avenida Fontes Pereira de Melo    │    23 │ 0.831%  │\n",
       "│ Santo António           │ Rua Alexandre Herculano           │    22 │ 0.795%  │\n",
       "│ Alvalade                │ Avenida Estados Unidos da América │    18 │ 0.65%   │\n",
       "│ Santa Maria dos Olivais │ Avenida Infante Dom Henrique      │    18 │ 0.65%   │\n",
       "│ Parque das Nações       │ Avenida Dom João II               │    17 │ 0.614%  │\n",
       "│ Alvalade                │ Avenida General Norton de Matos   │    17 │ 0.614%  │\n",
       "│ Avenidas Novas          │ Avenida António Augusto de Aguiar │    17 │ 0.614%  │\n",
       "│ Santa Maria dos Olivais │ Avenida Marechal Gomes da Costa   │    16 │ 0.578%  │\n",
       "│ Parque das Nações       │ Alameda Oceanos                   │    16 │ 0.578%  │\n",
       "│ São Domingos de Benfica │ Avenida General Correia Barreto   │    15 │ 0.542%  │\n",
       "│ Alvalade                │ Avenida Brasil                    │    15 │ 0.542%  │\n",
       "│ Lumiar                  │ Alameda Linhas de Torres          │    15 │ 0.542%  │\n",
       "│ Alvalade                │ Avenida Almirante Gago Coutinho   │    15 │ 0.542%  │\n",
       "├─────────────────────────┴───────────────────────────────────┴───────┴─────────┤\n",
       "│ 23 rows                                                             4 columns │\n",
       "└───────────────────────────────────────────────────────────────────────────────┘"
      ]
     },
     "execution_count": 22,
     "metadata": {},
     "output_type": "execute_result"
    }
   ],
   "source": [
    "db.sql(\"\"\" \n",
    "SELECT \n",
    "\tfreguesia,\n",
    "\t\"Nome arruamento\" AS nome_arruamento, \n",
    "\tcount(1) AS COUNT, \n",
    "\tROUND(COUNT(1)/2768*100, 3) || '%' AS '%'  \n",
    "FROM ansr_acidentes \n",
    "WHERE nome_arruamento IS NOT NULL\n",
    "GROUP BY 1,2 \n",
    "ORDER BY 3\n",
    "DESC LIMIT 23\n",
    "\"\"\")"
   ]
  },
  {
   "cell_type": "code",
   "execution_count": 12,
   "metadata": {},
   "outputs": [],
   "source": [
    "db.sql(\"\"\" \n",
    "CREATE OR REPLACE TEMP TABLE ACIDENTES_RUA_GRAVIDADE AS\n",
    "SELECT \t\n",
    "\tfreguesia, \n",
    "\trua,  \n",
    "\tSUM(cond_ileso) AS ileso, \n",
    "\tSUM(passageiro_leves + cond_leves) AS leves, \n",
    "\tSUM(passageiro_graves + cond_graves) AS graves, \n",
    "\tSUM(passageiro_mortes + cond_mortes) AS mortes,      \n",
    "\tSUM(total_feridos) total,\n",
    "\t( 100 * mortes + 10 * graves + 3 * leves) AS INDICADOR_DE_GRAVIDADE, \n",
    "\t( 30  * mortes + 10 * graves + 3 * leves) AS INDICADOR_DE_GRAVIDADE_SOFT\n",
    "FROM\n",
    "\t(\n",
    "\tSELECT *, passageiro_leves + passageiro_graves + passageiro_mortes  + cond_leves + cond_graves + cond_mortes as total_feridos\n",
    "\tFROM\n",
    "\t\t(\n",
    "\t\tSELECT \n",
    "\t\t\ta.IdAcidente, a.freguesia, a.\"Nome arruamento\" AS rua,\n",
    "\t\t\t(SELECT count(1)\tFROM ansr_acidentes_veic_cond cond \t\tWHERE cond.IdAcidente  = a.IdAcidente \tAND cond.\"Lesões a 30 dias\" = 'Ileso') \t\t\tAS cond_ileso,\n",
    "\t\t\t(SELECT count(1)\tFROM ansr_acidentes_veic_cond cond \t\tWHERE cond.IdAcidente  = a.IdAcidente \tAND cond.\"Lesões a 30 dias\" = 'Ferido leve') \tAS cond_leves,\n",
    "\t\t\t(SELECT count(1)\tFROM ansr_acidentes_veic_cond cond \t\tWHERE cond.IdAcidente  = a.IdAcidente \tAND cond.\"Lesões a 30 dias\" = 'Ferido grave') \tAS cond_graves,\n",
    "\t\t\t(SELECT count(1)\tFROM ansr_acidentes_veic_cond cond \t\tWHERE cond.IdAcidente  = a.IdAcidente \tAND cond.\"Lesões a 30 dias\" = 'Morto') \t\t\tAS cond_mortes,\n",
    "\t\t\t(SELECT count(1)\tFROM ansr_acidentes_passageiros pass \twhere pass.IdAcidente  = a.IdAcidente \tAND pass.\"Lesões a 30 dias\" = 'Ferido leve')\tAS passageiro_leves, \n",
    "\t\t\t(SELECT count(1)\tFROM ansr_acidentes_passageiros pass \twhere pass.IdAcidente = a.IdAcidente\tAND pass.\"Lesões a 30 dias\" = 'Ferido grave')\tAS passageiro_graves, \n",
    "\t\t\t(SELECT count(1)\tFROM ansr_acidentes_passageiros pass \twhere pass.IdAcidente = a.IdAcidente\tAND pass.\"Lesões a 30 dias\"\t= 'Morto') \t\t\tAS passageiro_mortes \n",
    "\t\tFROM ansr_acidentes a\n",
    "\t\tWHERE rua IS NOT NULL\n",
    "\t\t)\n",
    "\t)\n",
    "GROUP BY 1, 2\n",
    "\"\"\")"
   ]
  },
  {
   "attachments": {},
   "cell_type": "markdown",
   "metadata": {},
   "source": [
    "Ruas com mortes"
   ]
  },
  {
   "cell_type": "code",
   "execution_count": 16,
   "metadata": {},
   "outputs": [
    {
     "data": {
      "text/plain": [
       "┌─────────────────────────┬────────────────────────────────────────┬────────┐\n",
       "│        Freguesia        │                  rua                   │ mortes │\n",
       "│         varchar         │                varchar                 │ int128 │\n",
       "├─────────────────────────┼────────────────────────────────────────┼────────┤\n",
       "│ Alvalade                │ Avenida Marechal Craveiro Lopes        │      1 │\n",
       "│ Santa Maria dos Olivais │ Avenida Cidade do Porto                │      1 │\n",
       "│ Alvalade                │ Avenida Professor Egas Moniz           │      1 │\n",
       "│ Penha de França         │ Avenida Marechal Francisco Costa Gomes │      1 │\n",
       "│ Alcântara               │ Estrada do Alvito                      │      1 │\n",
       "└─────────────────────────┴────────────────────────────────────────┴────────┘"
      ]
     },
     "execution_count": 16,
     "metadata": {},
     "output_type": "execute_result"
    }
   ],
   "source": [
    "db.sql(\"\"\" \n",
    "SELECT freguesia, rua, mortes\n",
    "FROM\n",
    "\tACIDENTES_RUA_GRAVIDADE \n",
    "WHERE mortes > 0\n",
    "ORDER BY indicador_de_gravidade DESC\n",
    "LIMIT 10\n",
    "\"\"\")"
   ]
  },
  {
   "cell_type": "code",
   "execution_count": null,
   "metadata": {},
   "outputs": [],
   "source": [
    "db.sql(\"\"\" \n",
    "SELECT freguesia, rua, total\n",
    "FROM\n",
    "\tACIDENTES_RUA_GRAVIDADE \n",
    "ORDER BY total DESC\n",
    "LIMIT 10\n",
    "\"\"\")"
   ]
  },
  {
   "attachments": {},
   "cell_type": "markdown",
   "metadata": {},
   "source": [
    "Top 10 ruas com fridos"
   ]
  },
  {
   "cell_type": "code",
   "execution_count": 15,
   "metadata": {},
   "outputs": [
    {
     "data": {
      "text/plain": [
       "┌─────────────────────────┬───────────────────────────────────┬────────┐\n",
       "│        Freguesia        │                rua                │ total  │\n",
       "│         varchar         │              varchar              │ int128 │\n",
       "├─────────────────────────┼───────────────────────────────────┼────────┤\n",
       "│ São Domingos de Benfica │ Avenida Eusébio da Silva Ferreira │     39 │\n",
       "│ Lumiar                  │ Calçada Carriche                  │     39 │\n",
       "│ Alvalade                │ Avenida Marechal Craveiro Lopes   │     38 │\n",
       "│ Avenidas Novas          │ Avenida República                 │     36 │\n",
       "│ Lumiar                  │ Avenida Padre Cruz                │     29 │\n",
       "│ Santo António           │ Avenida Liberdade                 │     29 │\n",
       "│ Arroios                 │ Avenida Almirante Reis            │     28 │\n",
       "│ Santa Maria dos Olivais │ Avenida Berlim                    │     27 │\n",
       "│ Santa Maria dos Olivais │ Avenida Marechal Gomes da Costa   │     26 │\n",
       "│ Alvalade                │ Campo Grande                      │     25 │\n",
       "├─────────────────────────┴───────────────────────────────────┴────────┤\n",
       "│ 10 rows                                                    3 columns │\n",
       "└──────────────────────────────────────────────────────────────────────┘"
      ]
     },
     "execution_count": 15,
     "metadata": {},
     "output_type": "execute_result"
    }
   ],
   "source": [
    "db.sql(\"\"\" \n",
    "SELECT freguesia, rua, total\n",
    "FROM\n",
    "\tACIDENTES_RUA_GRAVIDADE \n",
    "ORDER BY total DESC\n",
    "LIMIT 10\n",
    "\"\"\")"
   ]
  },
  {
   "cell_type": "code",
   "execution_count": 19,
   "metadata": {},
   "outputs": [
    {
     "data": {
      "text/plain": [
       "┌─────────────────────────┬────────────────────────────────────────┬────────────────────────┐\n",
       "│        Freguesia        │                  rua                   │ INDICADOR_DE_GRAVIDADE │\n",
       "│         varchar         │                varchar                 │         int128         │\n",
       "├─────────────────────────┼────────────────────────────────────────┼────────────────────────┤\n",
       "│ Alvalade                │ Avenida Marechal Craveiro Lopes        │                    232 │\n",
       "│ Santa Maria dos Olivais │ Avenida Cidade do Porto                │                    143 │\n",
       "│ Lumiar                  │ Calçada Carriche                       │                    124 │\n",
       "│ Alvalade                │ Avenida Professor Egas Moniz           │                    124 │\n",
       "│ São Domingos de Benfica │ Avenida Eusébio da Silva Ferreira      │                    117 │\n",
       "│ Penha de França         │ Avenida Marechal Francisco Costa Gomes │                    116 │\n",
       "│ Avenidas Novas          │ Avenida República                      │                    115 │\n",
       "│ Alcântara               │ Estrada do Alvito                      │                    100 │\n",
       "│ Santo António           │ Avenida Liberdade                      │                     94 │\n",
       "│ Lumiar                  │ Avenida Padre Cruz                     │                     87 │\n",
       "│ Arroios                 │ Avenida Almirante Reis                 │                     84 │\n",
       "│ Alvalade                │ Campo Grande                           │                     82 │\n",
       "│ Santa Maria dos Olivais │ Avenida Berlim                         │                     81 │\n",
       "│ Santa Maria dos Olivais │ Avenida Marechal Gomes da Costa        │                     78 │\n",
       "│ São Domingos de Benfica │ Avenida General Correia Barreto        │                     73 │\n",
       "│ Santa Maria dos Olivais │ Avenida Doutor Alfredo Bensaúde        │                     73 │\n",
       "│ Alvalade                │ Avenida General Norton de Matos        │                     66 │\n",
       "│ Avenidas Novas          │ Avenida Fontes Pereira de Melo         │                     66 │\n",
       "│ Estrela                 │ Rua Cintura do Porto de Lisboa         │                     64 │\n",
       "│ Santo António           │ Rua Alexandre Herculano                │                     61 │\n",
       "├─────────────────────────┴────────────────────────────────────────┴────────────────────────┤\n",
       "│ 20 rows                                                                         3 columns │\n",
       "└───────────────────────────────────────────────────────────────────────────────────────────┘"
      ]
     },
     "execution_count": 19,
     "metadata": {},
     "output_type": "execute_result"
    }
   ],
   "source": [
    "db.sql(\"\"\" \n",
    "SELECT freguesia, rua, indicador_de_gravidade \n",
    "FROM\n",
    "\tACIDENTES_RUA_GRAVIDADE \n",
    "ORDER BY indicador_de_gravidade  DESC\n",
    "LIMIT 20\n",
    "\"\"\")"
   ]
  },
  {
   "cell_type": "code",
   "execution_count": 42,
   "metadata": {},
   "outputs": [
    {
     "data": {
      "text/plain": [
       "┌─────────────────────────┬───────────────────────────────────┬─────────────────────────────┐\n",
       "│        Freguesia        │                rua                │ INDICADOR_DE_GRAVIDADE_SOFT │\n",
       "│         varchar         │              varchar              │           int128            │\n",
       "├─────────────────────────┼───────────────────────────────────┼─────────────────────────────┤\n",
       "│ Alvalade                │ Avenida Marechal Craveiro Lopes   │                         162 │\n",
       "│ Lumiar                  │ Calçada Carriche                  │                         124 │\n",
       "│ São Domingos de Benfica │ Avenida Eusébio da Silva Ferreira │                         117 │\n",
       "│ Avenidas Novas          │ Avenida República                 │                         115 │\n",
       "│ Santo António           │ Avenida Liberdade                 │                          94 │\n",
       "│ Lumiar                  │ Avenida Padre Cruz                │                          87 │\n",
       "│ Arroios                 │ Avenida Almirante Reis            │                          84 │\n",
       "│ Alvalade                │ Campo Grande                      │                          82 │\n",
       "│ Santa Maria dos Olivais │ Avenida Berlim                    │                          81 │\n",
       "│ Santa Maria dos Olivais │ Avenida Marechal Gomes da Costa   │                          78 │\n",
       "│ São Domingos de Benfica │ Avenida General Correia Barreto   │                          73 │\n",
       "│ Santa Maria dos Olivais │ Avenida Doutor Alfredo Bensaúde   │                          73 │\n",
       "│ Santa Maria dos Olivais │ Avenida Cidade do Porto           │                          73 │\n",
       "│ Alvalade                │ Avenida General Norton de Matos   │                          66 │\n",
       "│ Avenidas Novas          │ Avenida Fontes Pereira de Melo    │                          66 │\n",
       "│ Estrela                 │ Rua Cintura do Porto de Lisboa    │                          64 │\n",
       "│ Santo António           │ Rua Alexandre Herculano           │                          61 │\n",
       "│ Santa Maria dos Olivais │ Avenida Infante Dom Henrique      │                          55 │\n",
       "│ Alvalade                │ Avenida Professor Egas Moniz      │                          54 │\n",
       "│ Alvalade                │ Avenida Almirante Gago Coutinho   │                          54 │\n",
       "├─────────────────────────┴───────────────────────────────────┴─────────────────────────────┤\n",
       "│ 20 rows                                                                         3 columns │\n",
       "└───────────────────────────────────────────────────────────────────────────────────────────┘"
      ]
     },
     "execution_count": 42,
     "metadata": {},
     "output_type": "execute_result"
    }
   ],
   "source": [
    "db.sql(\"\"\" \n",
    "SELECT freguesia, rua, indicador_de_gravidade_soft\n",
    "FROM\n",
    "\tACIDENTES_RUA_GRAVIDADE \n",
    "ORDER BY indicador_de_gravidade_soft DESC\n",
    "LIMIT 20\n",
    "\"\"\")"
   ]
  },
  {
   "cell_type": "code",
   "execution_count": 22,
   "metadata": {},
   "outputs": [
    {
     "data": {
      "text/plain": [
       "┌──────────────────────┬──────────────────────────────────┬────────┬────────┬────────┬────────┬────────────────────────┐\n",
       "│      Freguesia       │               rua                │ leves  │ graves │ mortes │ total  │ INDICADOR_DE_GRAVIDADE │\n",
       "│       varchar        │             varchar              │ int128 │ int128 │ int128 │ int128 │         int128         │\n",
       "├──────────────────────┼──────────────────────────────────┼────────┼────────┼────────┼────────┼────────────────────────┤\n",
       "│ Alvalade             │ Avenida Marechal Craveiro Lopes  │     34 │      3 │      1 │     38 │                    232 │\n",
       "│ Lumiar               │ Calçada Carriche                 │     38 │      1 │      0 │     39 │                    124 │\n",
       "│ São Domingos de Be…  │ Avenida Eusébio da Silva Ferre…  │     39 │      0 │      0 │     39 │                    117 │\n",
       "│ Avenidas Novas       │ Avenida República                │     35 │      1 │      0 │     36 │                    115 │\n",
       "│ Santo António        │ Avenida Liberdade                │     28 │      1 │      0 │     29 │                     94 │\n",
       "│ Lumiar               │ Avenida Padre Cruz               │     29 │      0 │      0 │     29 │                     87 │\n",
       "│ Arroios              │ Avenida Almirante Reis           │     28 │      0 │      0 │     28 │                     84 │\n",
       "│ Alvalade             │ Campo Grande                     │     24 │      1 │      0 │     25 │                     82 │\n",
       "│ Santa Maria dos Ol…  │ Avenida Berlim                   │     27 │      0 │      0 │     27 │                     81 │\n",
       "│ Santa Maria dos Ol…  │ Avenida Marechal Gomes da Costa  │     26 │      0 │      0 │     26 │                     78 │\n",
       "├──────────────────────┴──────────────────────────────────┴────────┴────────┴────────┴────────┴────────────────────────┤\n",
       "│ 10 rows                                                                                                    7 columns │\n",
       "└──────────────────────────────────────────────────────────────────────────────────────────────────────────────────────┘"
      ]
     },
     "execution_count": 22,
     "metadata": {},
     "output_type": "execute_result"
    }
   ],
   "source": [
    "db.sql(\"\"\" \n",
    "SELECT freguesia, rua, leves, graves, mortes, total, indicador_de_gravidade\n",
    "FROM\n",
    "\tACIDENTES_RUA_GRAVIDADE \n",
    "ORDER BY indicador_de_gravidade_soft DESC\n",
    "LIMIT 10\n",
    "\"\"\")"
   ]
  },
  {
   "cell_type": "code",
   "execution_count": 23,
   "metadata": {},
   "outputs": [
    {
     "data": {
      "text/plain": [
       "<AxesSubplot:xlabel='AGE', ylabel='TOTAL'>"
      ]
     },
     "execution_count": 23,
     "metadata": {},
     "output_type": "execute_result"
    },
    {
     "data": {
      "image/png": "[encoded data removed]",
      "text/plain": [
       "<Figure size 1440x360 with 1 Axes>"
      ]
     },
     "metadata": {},
     "output_type": "display_data"
    }
   ],
   "source": [
    "df = db.sql(\"\"\" SELECT idade::INTEGER AS AGE, COUNT(1) AS TOTAL  FROM ansr_acidentes_veic_cond WHERE AGE IS NOT NULL  GROUP BY 1 order by 1 \"\"\").to_df() \n",
    "\n",
    "sns.set(rc={'figure.figsize':(20, 5)})\n",
    "sns.barplot(data=df, x='AGE', y='TOTAL', color='steelblue'  )\n",
    " "
   ]
  },
  {
   "cell_type": "code",
   "execution_count": 26,
   "metadata": {},
   "outputs": [
    {
     "data": {
      "text/plain": [
       "┌───────────────────────────────┬──────────┐\n",
       "│      Categoria Veículos       │ count(1) │\n",
       "│            varchar            │  int64   │\n",
       "├───────────────────────────────┼──────────┤\n",
       "│ Automóvel ligeiro             │     3349 │\n",
       "│ Motociclo cilindrada <= 125cc │      710 │\n",
       "│ Motociclo cilindrada > 125cc  │      338 │\n",
       "│ Automóvel pesado              │      118 │\n",
       "│ Ciclomotor                    │      114 │\n",
       "│ Velocípede                    │       87 │\n",
       "│ Velocípede com motor          │       79 │\n",
       "│ Triciclo                      │       23 │\n",
       "│ Veículo sobre carris          │        8 │\n",
       "│ Desconhecido                  │        3 │\n",
       "│ Quadriciclo                   │        2 │\n",
       "│ NÃO DEFINIDO                  │        2 │\n",
       "│ Veículo agrícola              │        1 │\n",
       "├───────────────────────────────┴──────────┤\n",
       "│ 13 rows                        2 columns │\n",
       "└──────────────────────────────────────────┘"
      ]
     },
     "execution_count": 26,
     "metadata": {},
     "output_type": "execute_result"
    }
   ],
   "source": [
    "db.sql(\"\"\" SELECT \"Categoria Veículos\", count(1) FROM ansr_acidentes_veic_cond GROUP BY 1 ORDER BY 2 DESC \"\"\")"
   ]
  },
  {
   "cell_type": "code",
   "execution_count": 27,
   "metadata": {},
   "outputs": [
    {
     "data": {
      "text/plain": [
       "┌──────────────┬──────────┐\n",
       "│  Traçado 1   │ count(1) │\n",
       "│   varchar    │  int64   │\n",
       "├──────────────┼──────────┤\n",
       "│ Recta        │     2327 │\n",
       "│ Curva        │      422 │\n",
       "│ NÃO DEFINIDO │       19 │\n",
       "└──────────────┴──────────┘"
      ]
     },
     "execution_count": 27,
     "metadata": {},
     "output_type": "execute_result"
    }
   ],
   "source": [
    "db.sql(\"\"\" SELECT \"Traçado 1\",  count(1) FROM ansr_acidentes  GROUP BY ALL ORDER BY 2 DESC \"\"\")"
   ]
  },
  {
   "cell_type": "code",
   "execution_count": 28,
   "metadata": {},
   "outputs": [
    {
     "data": {
      "text/plain": [
       "┌──────────────┬────────────────┬──────────┐\n",
       "│  Traçado 1   │   Traçado 2    │ count(1) │\n",
       "│   varchar    │    varchar     │  int64   │\n",
       "├──────────────┼────────────────┼──────────┤\n",
       "│ Recta        │ Em patamar     │     1578 │\n",
       "│ Recta        │ Com inclinação │      737 │\n",
       "│ Curva        │ Com inclinação │      221 │\n",
       "│ Curva        │ Em patamar     │      199 │\n",
       "│ NÃO DEFINIDO │ NÃO DEFINIDO   │       19 │\n",
       "│ Recta        │ Em Lomba       │        7 │\n",
       "│ Recta        │ NÃO DEFINIDO   │        5 │\n",
       "│ Curva        │ Em Lomba       │        2 │\n",
       "└──────────────┴────────────────┴──────────┘"
      ]
     },
     "execution_count": 28,
     "metadata": {},
     "output_type": "execute_result"
    }
   ],
   "source": [
    "db.sql(\"\"\" SELECT \"Traçado 1\", \"Traçado 2\", count(1) FROM ansr_acidentes  GROUP BY ALL ORDER BY 3 DESC \"\"\")"
   ]
  },
  {
   "cell_type": "code",
   "execution_count": 9,
   "metadata": {},
   "outputs": [
    {
     "data": {
      "text/plain": [
       "┌─────────┬────────────────┬───────────────────────────┬──────────┐\n",
       "│   t1    │       t2       │            t3             │ count(1) │\n",
       "│ varchar │    varchar     │          varchar          │  int64   │\n",
       "├─────────┼────────────────┼───────────────────────────┼──────────┤\n",
       "│ Recta   │ Em patamar     │ Berma pavimentada         │     1045 │\n",
       "│ Recta   │ Em patamar     │ Sem berma ou impraticável │      499 │\n",
       "│ Recta   │ Com inclinação │ Berma pavimentada         │      406 │\n",
       "│ Recta   │ Com inclinação │ Sem berma ou impraticável │      320 │\n",
       "│ Curva   │ Em patamar     │ Berma pavimentada         │      129 │\n",
       "│ Curva   │ Com inclinação │ Berma pavimentada         │      112 │\n",
       "│ Curva   │ Com inclinação │ Sem berma ou impraticável │      106 │\n",
       "│ Curva   │ Em patamar     │ Sem berma ou impraticável │       67 │\n",
       "└─────────┴────────────────┴───────────────────────────┴──────────┘"
      ]
     },
     "execution_count": 9,
     "metadata": {},
     "output_type": "execute_result"
    }
   ],
   "source": [
    "db.sql(\"\"\" \n",
    "SELECT \n",
    "    \"Traçado 1\" t1, \"Traçado 2\" t2, \"Traçado 3\" t3, count(1) \n",
    "FROM \n",
    "    ansr_acidentes \n",
    "WHERE \n",
    "    t3 = 'Berma pavimentada' OR t3 = 'Sem berma ou impraticável'  \n",
    "GROUP BY ALL \n",
    "HAVING count(1) > 10\n",
    "ORDER BY 4 DESC\n",
    "\n",
    " \"\"\")"
   ]
  },
  {
   "cell_type": "code",
   "execution_count": 24,
   "metadata": {},
   "outputs": [],
   "source": [
    "db.close()"
   ]
  }
 ],
 "metadata": {
  "kernelspec": {
   "display_name": "base",
   "language": "python",
   "name": "python3"
  },
  "language_info": {
   "codemirror_mode": {
    "name": "ipython",
    "version": 3
   },
   "file_extension": ".py",
   "mimetype": "text/x-python",
   "name": "python",
   "nbconvert_exporter": "python",
   "pygments_lexer": "ipython3",
   "version": "3.9.7"
  },
  "orig_nbformat": 4
 },
 "nbformat": 4,
 "nbformat_minor": 2
}
